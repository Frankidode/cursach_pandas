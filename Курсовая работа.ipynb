{
 "cells": [
  {
   "cell_type": "code",
   "execution_count": 1,
   "id": "a90ed3dd",
   "metadata": {},
   "outputs": [],
   "source": [
    "%matplotlib inline\n",
    "import matplotlib.pyplot as plt\n",
    "import seaborn as sns\n",
    "import numpy as np\n",
    "import pandas as pd\n",
    "import csv\n",
    "from docx import Document"
   ]
  },
  {
   "cell_type": "code",
   "execution_count": 6,
   "id": "c0a40b35",
   "metadata": {},
   "outputs": [],
   "source": [
    "#Чтобы работать с базами данных нужно их сначало создать\n",
    "csvfile = open('data.csv','w')\n",
    "\n",
    "writer = csv.writer(csvfile, delimiter=',', quotechar='\"',quoting=csv.QUOTE_MINIMAL) #введение параметров записи\n",
    "writer.writerow(['Имя', 'Возраст', \"Профессия\", \"Доход\", \"Город проживания\"]) #Задание структуры данных\n",
    "csvfile.close()\n",
    "#Здесь мы создали новый файл, чтобы начать добавлять в него записи.\n",
    "#Если такой файл уже был - просто пропускаем этот пункт."
   ]
  },
  {
   "cell_type": "code",
   "execution_count": 7,
   "id": "ade4809c",
   "metadata": {
    "scrolled": false
   },
   "outputs": [
    {
     "name": "stdout",
     "output_type": "stream",
     "text": [
      "Начата запись данных\n",
      "Вводите данные через пробел, если данные отсутсвуют - вводите прочерк.\n",
      "Вводите соответственно порядку: Имя, Возраст, Профессия, Доход, Город проживания.\n",
      "Для выхода из режима записи введите ВЫХОД\n",
      "Макар 20 летчик 120000 Москва\n",
      "Вводите данные через пробел, если данные отсутсвуют - вводите прочерк.\n",
      "Вводите соответственно порядку: Имя, Возраст, Профессия, Доход, Город проживания.\n",
      "Для выхода из режима записи введите ВЫХОД\n",
      "Иван 19 физик 50000 -\n",
      "Вводите данные через пробел, если данные отсутсвуют - вводите прочерк.\n",
      "Вводите соответственно порядку: Имя, Возраст, Профессия, Доход, Город проживания.\n",
      "Для выхода из режима записи введите ВЫХОД\n",
      "Кирилл 18 аналитик 40000 Санкт-Петербург\n",
      "Вводите данные через пробел, если данные отсутсвуют - вводите прочерк.\n",
      "Вводите соответственно порядку: Имя, Возраст, Профессия, Доход, Город проживания.\n",
      "Для выхода из режима записи введите ВЫХОД\n",
      "Денис химик 80000 Москва\n",
      "Вводите данные через пробел, если данные отсутсвуют - вводите прочерк.\n",
      "Вводите соответственно порядку: Имя, Возраст, Профессия, Доход, Город проживания.\n",
      "Для выхода из режима записи введите ВЫХОД\n",
      "Николай - программист - Калуга\n",
      "Вводите данные через пробел, если данные отсутсвуют - вводите прочерк.\n",
      "Вводите соответственно порядку: Имя, Возраст, Профессия, Доход, Город проживания.\n",
      "Для выхода из режима записи введите ВЫХОД\n",
      "Выход\n",
      "Запись закончена, спасибо\n"
     ]
    }
   ],
   "source": [
    "with open('data.csv', 'a') as csvfile:\n",
    "    writer = csv.writer(csvfile, delimiter=',', quotechar='\"', quoting=csv.QUOTE_MINIMAL)\n",
    "    print(\"Начата запись данных\")\n",
    "    while True:\n",
    "        print('''Вводите данные через пробел, если данные отсутсвуют - вводите прочерк.\n",
    "Вводите соответственно порядку: Имя, Возраст, Профессия, Доход, Город проживания.\n",
    "Для выхода из режима записи введите ВЫХОД''')\n",
    "        data = input()\n",
    "        if data.lower()=='выход':\n",
    "            print('Запись закончена, спасибо')\n",
    "            break\n",
    "        else:\n",
    "            data = data.split()\n",
    "            writer.writerow(data)  "
   ]
  },
  {
   "cell_type": "code",
   "execution_count": 11,
   "id": "9b27184c",
   "metadata": {},
   "outputs": [
    {
     "data": {
      "text/html": [
       "<div>\n",
       "<style scoped>\n",
       "    .dataframe tbody tr th:only-of-type {\n",
       "        vertical-align: middle;\n",
       "    }\n",
       "\n",
       "    .dataframe tbody tr th {\n",
       "        vertical-align: top;\n",
       "    }\n",
       "\n",
       "    .dataframe thead th {\n",
       "        text-align: right;\n",
       "    }\n",
       "</style>\n",
       "<table border=\"1\" class=\"dataframe\">\n",
       "  <thead>\n",
       "    <tr style=\"text-align: right;\">\n",
       "      <th></th>\n",
       "      <th>Имя</th>\n",
       "      <th>Возраст</th>\n",
       "      <th>Профессия</th>\n",
       "      <th>Доход</th>\n",
       "      <th>Город проживания</th>\n",
       "    </tr>\n",
       "  </thead>\n",
       "  <tbody>\n",
       "    <tr>\n",
       "      <th>0</th>\n",
       "      <td>Макар</td>\n",
       "      <td>20</td>\n",
       "      <td>летчик</td>\n",
       "      <td>120000</td>\n",
       "      <td>Москва</td>\n",
       "    </tr>\n",
       "    <tr>\n",
       "      <th>1</th>\n",
       "      <td>Иван</td>\n",
       "      <td>19</td>\n",
       "      <td>физик</td>\n",
       "      <td>50000</td>\n",
       "      <td>-</td>\n",
       "    </tr>\n",
       "    <tr>\n",
       "      <th>2</th>\n",
       "      <td>Кирилл</td>\n",
       "      <td>18</td>\n",
       "      <td>аналитик</td>\n",
       "      <td>40000</td>\n",
       "      <td>Санкт-Петербург</td>\n",
       "    </tr>\n",
       "    <tr>\n",
       "      <th>3</th>\n",
       "      <td>Денис</td>\n",
       "      <td>24</td>\n",
       "      <td>химик</td>\n",
       "      <td>80000</td>\n",
       "      <td>Москва</td>\n",
       "    </tr>\n",
       "    <tr>\n",
       "      <th>4</th>\n",
       "      <td>Николай</td>\n",
       "      <td>-</td>\n",
       "      <td>программист</td>\n",
       "      <td>-</td>\n",
       "      <td>Калуга</td>\n",
       "    </tr>\n",
       "  </tbody>\n",
       "</table>\n",
       "</div>"
      ],
      "text/plain": [
       "       Имя Возраст    Профессия   Доход Город проживания\n",
       "0    Макар      20       летчик  120000           Москва\n",
       "1     Иван      19        физик   50000                -\n",
       "2   Кирилл      18     аналитик   40000  Санкт-Петербург\n",
       "3    Денис      24        химик   80000           Москва\n",
       "4  Николай       -  программист       -           Калуга"
      ]
     },
     "execution_count": 11,
     "metadata": {},
     "output_type": "execute_result"
    }
   ],
   "source": [
    "#Теперь когда у нас есть данные, введенные в ручную, можно их преобразовать в таблицу\n",
    "df = pd.read_csv('data.csv')\n",
    "df"
   ]
  },
  {
   "cell_type": "code",
   "execution_count": 12,
   "id": "a9033e89",
   "metadata": {},
   "outputs": [],
   "source": [
    "#Нужно заменить прочерки на значение NaN, так как именно с этими значениями работает Pandas\n",
    "title = df.columns #Получаем названия колонок Dataframe\n",
    "for t in title:\n",
    "    df.loc[df[t]=='-', t] = float('NaN')"
   ]
  },
  {
   "cell_type": "code",
   "execution_count": 13,
   "id": "902cb534",
   "metadata": {},
   "outputs": [
    {
     "data": {
      "text/html": [
       "<div>\n",
       "<style scoped>\n",
       "    .dataframe tbody tr th:only-of-type {\n",
       "        vertical-align: middle;\n",
       "    }\n",
       "\n",
       "    .dataframe tbody tr th {\n",
       "        vertical-align: top;\n",
       "    }\n",
       "\n",
       "    .dataframe thead th {\n",
       "        text-align: right;\n",
       "    }\n",
       "</style>\n",
       "<table border=\"1\" class=\"dataframe\">\n",
       "  <thead>\n",
       "    <tr style=\"text-align: right;\">\n",
       "      <th></th>\n",
       "      <th>Имя</th>\n",
       "      <th>Возраст</th>\n",
       "      <th>Профессия</th>\n",
       "      <th>Доход</th>\n",
       "      <th>Город проживания</th>\n",
       "    </tr>\n",
       "  </thead>\n",
       "  <tbody>\n",
       "    <tr>\n",
       "      <th>0</th>\n",
       "      <td>Макар</td>\n",
       "      <td>20</td>\n",
       "      <td>летчик</td>\n",
       "      <td>120000</td>\n",
       "      <td>Москва</td>\n",
       "    </tr>\n",
       "    <tr>\n",
       "      <th>1</th>\n",
       "      <td>Иван</td>\n",
       "      <td>19</td>\n",
       "      <td>физик</td>\n",
       "      <td>50000</td>\n",
       "      <td>NaN</td>\n",
       "    </tr>\n",
       "    <tr>\n",
       "      <th>2</th>\n",
       "      <td>Кирилл</td>\n",
       "      <td>18</td>\n",
       "      <td>аналитик</td>\n",
       "      <td>40000</td>\n",
       "      <td>Санкт-Петербург</td>\n",
       "    </tr>\n",
       "    <tr>\n",
       "      <th>3</th>\n",
       "      <td>Денис</td>\n",
       "      <td>24</td>\n",
       "      <td>химик</td>\n",
       "      <td>80000</td>\n",
       "      <td>Москва</td>\n",
       "    </tr>\n",
       "    <tr>\n",
       "      <th>4</th>\n",
       "      <td>Николай</td>\n",
       "      <td>NaN</td>\n",
       "      <td>программист</td>\n",
       "      <td>NaN</td>\n",
       "      <td>Калуга</td>\n",
       "    </tr>\n",
       "  </tbody>\n",
       "</table>\n",
       "</div>"
      ],
      "text/plain": [
       "       Имя Возраст    Профессия   Доход Город проживания\n",
       "0    Макар      20       летчик  120000           Москва\n",
       "1     Иван      19        физик   50000              NaN\n",
       "2   Кирилл      18     аналитик   40000  Санкт-Петербург\n",
       "3    Денис      24        химик   80000           Москва\n",
       "4  Николай     NaN  программист     NaN           Калуга"
      ]
     },
     "execution_count": 13,
     "metadata": {},
     "output_type": "execute_result"
    }
   ],
   "source": [
    "df"
   ]
  },
  {
   "cell_type": "code",
   "execution_count": 52,
   "id": "e01ba51e",
   "metadata": {},
   "outputs": [],
   "source": [
    "#Допустим, что данные о человеке изменились, значит надо изменить и данные в dataframe\n",
    "df.loc[df['Имя']=='Денис','Профессия'] = 'химик'"
   ]
  },
  {
   "cell_type": "code",
   "execution_count": 91,
   "id": "064c2f3a",
   "metadata": {},
   "outputs": [
    {
     "data": {
      "text/html": [
       "<div>\n",
       "<style scoped>\n",
       "    .dataframe tbody tr th:only-of-type {\n",
       "        vertical-align: middle;\n",
       "    }\n",
       "\n",
       "    .dataframe tbody tr th {\n",
       "        vertical-align: top;\n",
       "    }\n",
       "\n",
       "    .dataframe thead th {\n",
       "        text-align: right;\n",
       "    }\n",
       "</style>\n",
       "<table border=\"1\" class=\"dataframe\">\n",
       "  <thead>\n",
       "    <tr style=\"text-align: right;\">\n",
       "      <th></th>\n",
       "      <th>Индекс</th>\n",
       "      <th>Имя</th>\n",
       "      <th>Возраст</th>\n",
       "      <th>Профессия</th>\n",
       "      <th>Доход</th>\n",
       "      <th>Город проживания</th>\n",
       "    </tr>\n",
       "  </thead>\n",
       "  <tbody>\n",
       "    <tr>\n",
       "      <th>0</th>\n",
       "      <td>True</td>\n",
       "      <td>True</td>\n",
       "      <td>True</td>\n",
       "      <td>True</td>\n",
       "      <td>True</td>\n",
       "      <td>True</td>\n",
       "    </tr>\n",
       "    <tr>\n",
       "      <th>1</th>\n",
       "      <td>True</td>\n",
       "      <td>True</td>\n",
       "      <td>True</td>\n",
       "      <td>True</td>\n",
       "      <td>True</td>\n",
       "      <td>False</td>\n",
       "    </tr>\n",
       "    <tr>\n",
       "      <th>2</th>\n",
       "      <td>True</td>\n",
       "      <td>True</td>\n",
       "      <td>True</td>\n",
       "      <td>True</td>\n",
       "      <td>True</td>\n",
       "      <td>True</td>\n",
       "    </tr>\n",
       "    <tr>\n",
       "      <th>3</th>\n",
       "      <td>True</td>\n",
       "      <td>True</td>\n",
       "      <td>True</td>\n",
       "      <td>True</td>\n",
       "      <td>True</td>\n",
       "      <td>True</td>\n",
       "    </tr>\n",
       "    <tr>\n",
       "      <th>4</th>\n",
       "      <td>True</td>\n",
       "      <td>True</td>\n",
       "      <td>False</td>\n",
       "      <td>True</td>\n",
       "      <td>False</td>\n",
       "      <td>True</td>\n",
       "    </tr>\n",
       "    <tr>\n",
       "      <th>5</th>\n",
       "      <td>True</td>\n",
       "      <td>True</td>\n",
       "      <td>True</td>\n",
       "      <td>True</td>\n",
       "      <td>True</td>\n",
       "      <td>True</td>\n",
       "    </tr>\n",
       "    <tr>\n",
       "      <th>6</th>\n",
       "      <td>True</td>\n",
       "      <td>True</td>\n",
       "      <td>True</td>\n",
       "      <td>True</td>\n",
       "      <td>False</td>\n",
       "      <td>True</td>\n",
       "    </tr>\n",
       "    <tr>\n",
       "      <th>7</th>\n",
       "      <td>True</td>\n",
       "      <td>True</td>\n",
       "      <td>True</td>\n",
       "      <td>True</td>\n",
       "      <td>True</td>\n",
       "      <td>True</td>\n",
       "    </tr>\n",
       "  </tbody>\n",
       "</table>\n",
       "</div>"
      ],
      "text/plain": [
       "   Индекс   Имя  Возраст  Профессия  Доход  Город проживания\n",
       "0    True  True     True       True   True              True\n",
       "1    True  True     True       True   True             False\n",
       "2    True  True     True       True   True              True\n",
       "3    True  True     True       True   True              True\n",
       "4    True  True    False       True  False              True\n",
       "5    True  True     True       True   True              True\n",
       "6    True  True     True       True  False              True\n",
       "7    True  True     True       True   True              True"
      ]
     },
     "execution_count": 91,
     "metadata": {},
     "output_type": "execute_result"
    }
   ],
   "source": [
    "df = pd.read_csv('data.csv')\n",
    "df2 = pd.read_excel('data.xlsx')\n",
    "df==df2"
   ]
  },
  {
   "cell_type": "code",
   "execution_count": 101,
   "id": "26d0f57f",
   "metadata": {},
   "outputs": [
    {
     "data": {
      "text/plain": [
       "False"
      ]
     },
     "execution_count": 101,
     "metadata": {},
     "output_type": "execute_result"
    }
   ],
   "source": [
    "float('NaN')==float('NaN')"
   ]
  },
  {
   "cell_type": "code",
   "execution_count": 95,
   "id": "74a0eacd",
   "metadata": {
    "scrolled": false
   },
   "outputs": [
    {
     "name": "stdout",
     "output_type": "stream",
     "text": [
      "Начата запись данных\n",
      "Вводите данные через пробел, если данные отсутствуют - вводите прочерк.\n",
      "Вводите соответственно порядку: Имя, Возраст, Профессия, Доход, Город проживания.\n",
      "Для выхода из режима записи введите ВЫХОД\n",
      "Макар 20 летчик 120000 Москва\n",
      "Вводите данные через пробел, если данные отсутствуют - вводите прочерк.\n",
      "Вводите соответственно порядку: Имя, Возраст, Профессия, Доход, Город проживания.\n",
      "Для выхода из режима записи введите ВЫХОД\n",
      "Иван 19 физик 50000 -\n",
      "Вводите данные через пробел, если данные отсутствуют - вводите прочерк.\n",
      "Вводите соответственно порядку: Имя, Возраст, Профессия, Доход, Город проживания.\n",
      "Для выхода из режима записи введите ВЫХОД\n",
      "Кирилл 18 аналитик 40000 Санкт-Петербург\n",
      "Вводите данные через пробел, если данные отсутствуют - вводите прочерк.\n",
      "Вводите соответственно порядку: Имя, Возраст, Профессия, Доход, Город проживания.\n",
      "Для выхода из режима записи введите ВЫХОД\n",
      "Денис 24 химик 80000 Москва\n",
      "Вводите данные через пробел, если данные отсутствуют - вводите прочерк.\n",
      "Вводите соответственно порядку: Имя, Возраст, Профессия, Доход, Город проживания.\n",
      "Для выхода из режима записи введите ВЫХОД\n",
      "Николай - программист - Калуга\n",
      "Вводите данные через пробел, если данные отсутствуют - вводите прочерк.\n",
      "Вводите соответственно порядку: Имя, Возраст, Профессия, Доход, Город проживания.\n",
      "Для выхода из режима записи введите ВЫХОД\n",
      "Мария 35 художник 160000 -\n",
      "Вводите данные через пробел, если данные отсутствуют - вводите прочерк.\n",
      "Вводите соответственно порядку: Имя, Возраст, Профессия, Доход, Город проживания.\n",
      "Для выхода из режима записи введите ВЫХОД\n",
      "выход\n",
      "Запись закончена, спасибо\n"
     ]
    }
   ],
   "source": [
    "try:\n",
    "    df = pd.read_csv('data.csv')\n",
    "    df = df.set_index('Индекс')\n",
    "except FileNotFoundError:\n",
    "    df = pd.DataFrame(columns=[\"Имя\", \"Возраст\", \"Профессия\", \"Доход\", \"Город проживания\"])\n",
    "    df.index.name = 'Индекс'\n",
    "print(\"Начата запись данных\")\n",
    "while True:\n",
    "    print('''Вводите данные через пробел, если данные отсутствуют - вводите прочерк.\n",
    "Вводите соответственно порядку: Имя, Возраст, Профессия, Доход, Город проживания.\n",
    "Для выхода из режима записи введите ВЫХОД''')\n",
    "    data = input()\n",
    "    if data.lower()=='выход':\n",
    "        print('Запись закончена, спасибо')\n",
    "        break\n",
    "    else:\n",
    "        data = data.split()\n",
    "        if '-' in data:\n",
    "            for i in range(5):\n",
    "                if data[i] == '-':\n",
    "                    data[i] = float('NaN')\n",
    "        df.loc[df.shape[0],:] = data\n",
    "df.to_csv('data.csv')\n",
    "df.to_excel('data.xlsx')"
   ]
  },
  {
   "cell_type": "code",
   "execution_count": 98,
   "id": "83344820",
   "metadata": {},
   "outputs": [
    {
     "data": {
      "text/html": [
       "<div>\n",
       "<style scoped>\n",
       "    .dataframe tbody tr th:only-of-type {\n",
       "        vertical-align: middle;\n",
       "    }\n",
       "\n",
       "    .dataframe tbody tr th {\n",
       "        vertical-align: top;\n",
       "    }\n",
       "\n",
       "    .dataframe thead th {\n",
       "        text-align: right;\n",
       "    }\n",
       "</style>\n",
       "<table border=\"1\" class=\"dataframe\">\n",
       "  <thead>\n",
       "    <tr style=\"text-align: right;\">\n",
       "      <th></th>\n",
       "      <th>Имя</th>\n",
       "      <th>Возраст</th>\n",
       "      <th>Профессия</th>\n",
       "      <th>Доход</th>\n",
       "      <th>Город проживания</th>\n",
       "    </tr>\n",
       "    <tr>\n",
       "      <th>Индекс</th>\n",
       "      <th></th>\n",
       "      <th></th>\n",
       "      <th></th>\n",
       "      <th></th>\n",
       "      <th></th>\n",
       "    </tr>\n",
       "  </thead>\n",
       "  <tbody>\n",
       "    <tr>\n",
       "      <th>0</th>\n",
       "      <td>Макар</td>\n",
       "      <td>20</td>\n",
       "      <td>летчик</td>\n",
       "      <td>120000</td>\n",
       "      <td>Москва</td>\n",
       "    </tr>\n",
       "    <tr>\n",
       "      <th>1</th>\n",
       "      <td>Иван</td>\n",
       "      <td>19</td>\n",
       "      <td>физик</td>\n",
       "      <td>50000</td>\n",
       "      <td>NaN</td>\n",
       "    </tr>\n",
       "    <tr>\n",
       "      <th>2</th>\n",
       "      <td>Кирилл</td>\n",
       "      <td>18</td>\n",
       "      <td>аналитик</td>\n",
       "      <td>40000</td>\n",
       "      <td>Санкт-Петербург</td>\n",
       "    </tr>\n",
       "    <tr>\n",
       "      <th>3</th>\n",
       "      <td>Денис</td>\n",
       "      <td>24</td>\n",
       "      <td>химик</td>\n",
       "      <td>80000</td>\n",
       "      <td>Москва</td>\n",
       "    </tr>\n",
       "    <tr>\n",
       "      <th>4</th>\n",
       "      <td>Николай</td>\n",
       "      <td>NaN</td>\n",
       "      <td>программист</td>\n",
       "      <td>NaN</td>\n",
       "      <td>Калуга</td>\n",
       "    </tr>\n",
       "    <tr>\n",
       "      <th>5</th>\n",
       "      <td>Мария</td>\n",
       "      <td>35</td>\n",
       "      <td>художник</td>\n",
       "      <td>160000</td>\n",
       "      <td>NaN</td>\n",
       "    </tr>\n",
       "  </tbody>\n",
       "</table>\n",
       "</div>"
      ],
      "text/plain": [
       "            Имя Возраст    Профессия   Доход Город проживания\n",
       "Индекс                                                       \n",
       "0         Макар      20       летчик  120000           Москва\n",
       "1          Иван      19        физик   50000              NaN\n",
       "2        Кирилл      18     аналитик   40000  Санкт-Петербург\n",
       "3         Денис      24        химик   80000           Москва\n",
       "4       Николай     NaN  программист     NaN           Калуга\n",
       "5         Мария      35     художник  160000              NaN"
      ]
     },
     "execution_count": 98,
     "metadata": {},
     "output_type": "execute_result"
    }
   ],
   "source": [
    "df"
   ]
  },
  {
   "cell_type": "code",
   "execution_count": null,
   "id": "a74328d3",
   "metadata": {},
   "outputs": [],
   "source": [
    "#Таким образом мы смогли создать программу, которая может заполнять файл данными, введными в ручную\n",
    "#Но что насчет случайных данных?"
   ]
  },
  {
   "cell_type": "code",
   "execution_count": 120,
   "id": "8d6a3326",
   "metadata": {},
   "outputs": [
    {
     "data": {
      "text/html": [
       "<div>\n",
       "<style scoped>\n",
       "    .dataframe tbody tr th:only-of-type {\n",
       "        vertical-align: middle;\n",
       "    }\n",
       "\n",
       "    .dataframe tbody tr th {\n",
       "        vertical-align: top;\n",
       "    }\n",
       "\n",
       "    .dataframe thead th {\n",
       "        text-align: right;\n",
       "    }\n",
       "</style>\n",
       "<table border=\"1\" class=\"dataframe\">\n",
       "  <thead>\n",
       "    <tr style=\"text-align: right;\">\n",
       "      <th></th>\n",
       "      <th>2008</th>\n",
       "      <th>2009</th>\n",
       "      <th>2010</th>\n",
       "      <th>2011</th>\n",
       "      <th>2012</th>\n",
       "      <th>2013</th>\n",
       "      <th>2014</th>\n",
       "      <th>2015</th>\n",
       "      <th>2016</th>\n",
       "      <th>2017</th>\n",
       "      <th>2018</th>\n",
       "      <th>2019</th>\n",
       "      <th>2020</th>\n",
       "    </tr>\n",
       "  </thead>\n",
       "  <tbody>\n",
       "    <tr>\n",
       "      <th>January</th>\n",
       "      <td>137</td>\n",
       "      <td>143</td>\n",
       "      <td>220</td>\n",
       "      <td>193</td>\n",
       "      <td>137</td>\n",
       "      <td>276</td>\n",
       "      <td>281</td>\n",
       "      <td>265</td>\n",
       "      <td>275</td>\n",
       "      <td>105</td>\n",
       "      <td>275</td>\n",
       "      <td>273</td>\n",
       "      <td>228</td>\n",
       "    </tr>\n",
       "    <tr>\n",
       "      <th>Februare</th>\n",
       "      <td>147</td>\n",
       "      <td>195</td>\n",
       "      <td>207</td>\n",
       "      <td>266</td>\n",
       "      <td>184</td>\n",
       "      <td>217</td>\n",
       "      <td>104</td>\n",
       "      <td>176</td>\n",
       "      <td>147</td>\n",
       "      <td>246</td>\n",
       "      <td>186</td>\n",
       "      <td>179</td>\n",
       "      <td>259</td>\n",
       "    </tr>\n",
       "    <tr>\n",
       "      <th>March</th>\n",
       "      <td>144</td>\n",
       "      <td>166</td>\n",
       "      <td>196</td>\n",
       "      <td>263</td>\n",
       "      <td>163</td>\n",
       "      <td>219</td>\n",
       "      <td>246</td>\n",
       "      <td>252</td>\n",
       "      <td>140</td>\n",
       "      <td>261</td>\n",
       "      <td>198</td>\n",
       "      <td>128</td>\n",
       "      <td>184</td>\n",
       "    </tr>\n",
       "    <tr>\n",
       "      <th>April</th>\n",
       "      <td>186</td>\n",
       "      <td>272</td>\n",
       "      <td>211</td>\n",
       "      <td>145</td>\n",
       "      <td>234</td>\n",
       "      <td>285</td>\n",
       "      <td>274</td>\n",
       "      <td>221</td>\n",
       "      <td>132</td>\n",
       "      <td>223</td>\n",
       "      <td>268</td>\n",
       "      <td>276</td>\n",
       "      <td>187</td>\n",
       "    </tr>\n",
       "    <tr>\n",
       "      <th>May</th>\n",
       "      <td>263</td>\n",
       "      <td>267</td>\n",
       "      <td>205</td>\n",
       "      <td>210</td>\n",
       "      <td>245</td>\n",
       "      <td>280</td>\n",
       "      <td>261</td>\n",
       "      <td>157</td>\n",
       "      <td>147</td>\n",
       "      <td>132</td>\n",
       "      <td>234</td>\n",
       "      <td>170</td>\n",
       "      <td>178</td>\n",
       "    </tr>\n",
       "    <tr>\n",
       "      <th>June</th>\n",
       "      <td>274</td>\n",
       "      <td>183</td>\n",
       "      <td>279</td>\n",
       "      <td>131</td>\n",
       "      <td>267</td>\n",
       "      <td>150</td>\n",
       "      <td>119</td>\n",
       "      <td>123</td>\n",
       "      <td>139</td>\n",
       "      <td>270</td>\n",
       "      <td>180</td>\n",
       "      <td>127</td>\n",
       "      <td>298</td>\n",
       "    </tr>\n",
       "    <tr>\n",
       "      <th>July</th>\n",
       "      <td>144</td>\n",
       "      <td>237</td>\n",
       "      <td>197</td>\n",
       "      <td>115</td>\n",
       "      <td>179</td>\n",
       "      <td>115</td>\n",
       "      <td>142</td>\n",
       "      <td>136</td>\n",
       "      <td>158</td>\n",
       "      <td>120</td>\n",
       "      <td>259</td>\n",
       "      <td>179</td>\n",
       "      <td>258</td>\n",
       "    </tr>\n",
       "    <tr>\n",
       "      <th>August</th>\n",
       "      <td>226</td>\n",
       "      <td>285</td>\n",
       "      <td>122</td>\n",
       "      <td>205</td>\n",
       "      <td>264</td>\n",
       "      <td>246</td>\n",
       "      <td>190</td>\n",
       "      <td>191</td>\n",
       "      <td>129</td>\n",
       "      <td>127</td>\n",
       "      <td>233</td>\n",
       "      <td>164</td>\n",
       "      <td>159</td>\n",
       "    </tr>\n",
       "    <tr>\n",
       "      <th>September</th>\n",
       "      <td>148</td>\n",
       "      <td>155</td>\n",
       "      <td>192</td>\n",
       "      <td>115</td>\n",
       "      <td>211</td>\n",
       "      <td>171</td>\n",
       "      <td>118</td>\n",
       "      <td>209</td>\n",
       "      <td>290</td>\n",
       "      <td>106</td>\n",
       "      <td>180</td>\n",
       "      <td>179</td>\n",
       "      <td>290</td>\n",
       "    </tr>\n",
       "    <tr>\n",
       "      <th>October</th>\n",
       "      <td>286</td>\n",
       "      <td>297</td>\n",
       "      <td>210</td>\n",
       "      <td>290</td>\n",
       "      <td>116</td>\n",
       "      <td>126</td>\n",
       "      <td>151</td>\n",
       "      <td>271</td>\n",
       "      <td>162</td>\n",
       "      <td>190</td>\n",
       "      <td>197</td>\n",
       "      <td>230</td>\n",
       "      <td>113</td>\n",
       "    </tr>\n",
       "    <tr>\n",
       "      <th>November</th>\n",
       "      <td>240</td>\n",
       "      <td>284</td>\n",
       "      <td>283</td>\n",
       "      <td>117</td>\n",
       "      <td>194</td>\n",
       "      <td>111</td>\n",
       "      <td>291</td>\n",
       "      <td>170</td>\n",
       "      <td>278</td>\n",
       "      <td>284</td>\n",
       "      <td>229</td>\n",
       "      <td>299</td>\n",
       "      <td>121</td>\n",
       "    </tr>\n",
       "    <tr>\n",
       "      <th>December</th>\n",
       "      <td>212</td>\n",
       "      <td>156</td>\n",
       "      <td>154</td>\n",
       "      <td>213</td>\n",
       "      <td>133</td>\n",
       "      <td>138</td>\n",
       "      <td>242</td>\n",
       "      <td>265</td>\n",
       "      <td>150</td>\n",
       "      <td>247</td>\n",
       "      <td>256</td>\n",
       "      <td>166</td>\n",
       "      <td>252</td>\n",
       "    </tr>\n",
       "  </tbody>\n",
       "</table>\n",
       "</div>"
      ],
      "text/plain": [
       "           2008  2009  2010  2011  2012  2013  2014  2015  2016  2017  2018  \\\n",
       "January     137   143   220   193   137   276   281   265   275   105   275   \n",
       "Februare    147   195   207   266   184   217   104   176   147   246   186   \n",
       "March       144   166   196   263   163   219   246   252   140   261   198   \n",
       "April       186   272   211   145   234   285   274   221   132   223   268   \n",
       "May         263   267   205   210   245   280   261   157   147   132   234   \n",
       "June        274   183   279   131   267   150   119   123   139   270   180   \n",
       "July        144   237   197   115   179   115   142   136   158   120   259   \n",
       "August      226   285   122   205   264   246   190   191   129   127   233   \n",
       "September   148   155   192   115   211   171   118   209   290   106   180   \n",
       "October     286   297   210   290   116   126   151   271   162   190   197   \n",
       "November    240   284   283   117   194   111   291   170   278   284   229   \n",
       "December    212   156   154   213   133   138   242   265   150   247   256   \n",
       "\n",
       "           2019  2020  \n",
       "January     273   228  \n",
       "Februare    179   259  \n",
       "March       128   184  \n",
       "April       276   187  \n",
       "May         170   178  \n",
       "June        127   298  \n",
       "July        179   258  \n",
       "August      164   159  \n",
       "September   179   290  \n",
       "October     230   113  \n",
       "November    299   121  \n",
       "December    166   252  "
      ]
     },
     "execution_count": 120,
     "metadata": {},
     "output_type": "execute_result"
    }
   ],
   "source": [
    "data = np.random.randint(100, 300, size=(12,13))#создаем массив из случайных чисел от 100 до 300\n",
    "months = ['January','Februare', 'March','April', 'May', 'June', 'July', 'August', 'September', 'October', 'November', 'December']\n",
    "years = np.array([i for i in range (2008, 2021)])\n",
    "sales = pd.DataFrame(data, columns=years, index=months)\n",
    "sales"
   ]
  },
  {
   "cell_type": "code",
   "execution_count": 121,
   "id": "1c830d28",
   "metadata": {},
   "outputs": [
    {
     "data": {
      "text/plain": [
       "<AxesSubplot:>"
      ]
     },
     "execution_count": 121,
     "metadata": {},
     "output_type": "execute_result"
    },
    {
     "data": {
      "image/png": "[encoded data removed]",
      "text/plain": [
       "<Figure size 432x288 with 2 Axes>"
      ]
     },
     "metadata": {
      "needs_background": "light"
     },
     "output_type": "display_data"
    }
   ],
   "source": [
    "sns.heatmap(sales)"
   ]
  },
  {
   "cell_type": "markdown",
   "id": "14ce6bd2",
   "metadata": {},
   "source": [
    "# Для дальнейшей работы воспользуемся готовыми базами данных\n",
    "## Например, популярные titanic и iris"
   ]
  },
  {
   "cell_type": "code",
   "execution_count": 136,
   "id": "350dbb6d",
   "metadata": {},
   "outputs": [
    {
     "name": "stdout",
     "output_type": "stream",
     "text": [
      "Названия колонок: sepal_length sepal_width petal_length petal_width species\n"
     ]
    },
    {
     "data": {
      "text/html": [
       "<div>\n",
       "<style scoped>\n",
       "    .dataframe tbody tr th:only-of-type {\n",
       "        vertical-align: middle;\n",
       "    }\n",
       "\n",
       "    .dataframe tbody tr th {\n",
       "        vertical-align: top;\n",
       "    }\n",
       "\n",
       "    .dataframe thead th {\n",
       "        text-align: right;\n",
       "    }\n",
       "</style>\n",
       "<table border=\"1\" class=\"dataframe\">\n",
       "  <thead>\n",
       "    <tr style=\"text-align: right;\">\n",
       "      <th></th>\n",
       "      <th>sepal_length</th>\n",
       "      <th>sepal_width</th>\n",
       "      <th>petal_length</th>\n",
       "      <th>petal_width</th>\n",
       "      <th>species</th>\n",
       "    </tr>\n",
       "  </thead>\n",
       "  <tbody>\n",
       "    <tr>\n",
       "      <th>0</th>\n",
       "      <td>5.1</td>\n",
       "      <td>3.5</td>\n",
       "      <td>1.4</td>\n",
       "      <td>0.2</td>\n",
       "      <td>setosa</td>\n",
       "    </tr>\n",
       "    <tr>\n",
       "      <th>1</th>\n",
       "      <td>4.9</td>\n",
       "      <td>3.0</td>\n",
       "      <td>1.4</td>\n",
       "      <td>0.2</td>\n",
       "      <td>setosa</td>\n",
       "    </tr>\n",
       "    <tr>\n",
       "      <th>2</th>\n",
       "      <td>4.7</td>\n",
       "      <td>3.2</td>\n",
       "      <td>1.3</td>\n",
       "      <td>0.2</td>\n",
       "      <td>setosa</td>\n",
       "    </tr>\n",
       "    <tr>\n",
       "      <th>3</th>\n",
       "      <td>4.6</td>\n",
       "      <td>3.1</td>\n",
       "      <td>1.5</td>\n",
       "      <td>0.2</td>\n",
       "      <td>setosa</td>\n",
       "    </tr>\n",
       "    <tr>\n",
       "      <th>4</th>\n",
       "      <td>5.0</td>\n",
       "      <td>3.6</td>\n",
       "      <td>1.4</td>\n",
       "      <td>0.2</td>\n",
       "      <td>setosa</td>\n",
       "    </tr>\n",
       "  </tbody>\n",
       "</table>\n",
       "</div>"
      ],
      "text/plain": [
       "   sepal_length  sepal_width  petal_length  petal_width species\n",
       "0           5.1          3.5           1.4          0.2  setosa\n",
       "1           4.9          3.0           1.4          0.2  setosa\n",
       "2           4.7          3.2           1.3          0.2  setosa\n",
       "3           4.6          3.1           1.5          0.2  setosa\n",
       "4           5.0          3.6           1.4          0.2  setosa"
      ]
     },
     "execution_count": 136,
     "metadata": {},
     "output_type": "execute_result"
    }
   ],
   "source": [
    "iris = sns.load_dataset('iris')\n",
    "print('Названия колонок:', end =' ')\n",
    "print(*iris.columns)\n",
    "iris.head()"
   ]
  },
  {
   "cell_type": "code",
   "execution_count": 135,
   "id": "d0cbe7b4",
   "metadata": {},
   "outputs": [
    {
     "data": {
      "text/html": [
       "<div>\n",
       "<style scoped>\n",
       "    .dataframe tbody tr th:only-of-type {\n",
       "        vertical-align: middle;\n",
       "    }\n",
       "\n",
       "    .dataframe tbody tr th {\n",
       "        vertical-align: top;\n",
       "    }\n",
       "\n",
       "    .dataframe thead th {\n",
       "        text-align: right;\n",
       "    }\n",
       "</style>\n",
       "<table border=\"1\" class=\"dataframe\">\n",
       "  <thead>\n",
       "    <tr style=\"text-align: right;\">\n",
       "      <th></th>\n",
       "      <th>sepal_length</th>\n",
       "      <th>sepal_width</th>\n",
       "      <th>petal_length</th>\n",
       "      <th>petal_width</th>\n",
       "    </tr>\n",
       "  </thead>\n",
       "  <tbody>\n",
       "    <tr>\n",
       "      <th>count</th>\n",
       "      <td>150.000000</td>\n",
       "      <td>150.000000</td>\n",
       "      <td>150.000000</td>\n",
       "      <td>150.000000</td>\n",
       "    </tr>\n",
       "    <tr>\n",
       "      <th>mean</th>\n",
       "      <td>5.843333</td>\n",
       "      <td>3.057333</td>\n",
       "      <td>3.758000</td>\n",
       "      <td>1.199333</td>\n",
       "    </tr>\n",
       "    <tr>\n",
       "      <th>std</th>\n",
       "      <td>0.828066</td>\n",
       "      <td>0.435866</td>\n",
       "      <td>1.765298</td>\n",
       "      <td>0.762238</td>\n",
       "    </tr>\n",
       "    <tr>\n",
       "      <th>min</th>\n",
       "      <td>4.300000</td>\n",
       "      <td>2.000000</td>\n",
       "      <td>1.000000</td>\n",
       "      <td>0.100000</td>\n",
       "    </tr>\n",
       "    <tr>\n",
       "      <th>25%</th>\n",
       "      <td>5.100000</td>\n",
       "      <td>2.800000</td>\n",
       "      <td>1.600000</td>\n",
       "      <td>0.300000</td>\n",
       "    </tr>\n",
       "    <tr>\n",
       "      <th>50%</th>\n",
       "      <td>5.800000</td>\n",
       "      <td>3.000000</td>\n",
       "      <td>4.350000</td>\n",
       "      <td>1.300000</td>\n",
       "    </tr>\n",
       "    <tr>\n",
       "      <th>75%</th>\n",
       "      <td>6.400000</td>\n",
       "      <td>3.300000</td>\n",
       "      <td>5.100000</td>\n",
       "      <td>1.800000</td>\n",
       "    </tr>\n",
       "    <tr>\n",
       "      <th>max</th>\n",
       "      <td>7.900000</td>\n",
       "      <td>4.400000</td>\n",
       "      <td>6.900000</td>\n",
       "      <td>2.500000</td>\n",
       "    </tr>\n",
       "  </tbody>\n",
       "</table>\n",
       "</div>"
      ],
      "text/plain": [
       "       sepal_length  sepal_width  petal_length  petal_width\n",
       "count    150.000000   150.000000    150.000000   150.000000\n",
       "mean       5.843333     3.057333      3.758000     1.199333\n",
       "std        0.828066     0.435866      1.765298     0.762238\n",
       "min        4.300000     2.000000      1.000000     0.100000\n",
       "25%        5.100000     2.800000      1.600000     0.300000\n",
       "50%        5.800000     3.000000      4.350000     1.300000\n",
       "75%        6.400000     3.300000      5.100000     1.800000\n",
       "max        7.900000     4.400000      6.900000     2.500000"
      ]
     },
     "execution_count": 135,
     "metadata": {},
     "output_type": "execute_result"
    }
   ],
   "source": [
    "iris.describe()"
   ]
  },
  {
   "cell_type": "code",
   "execution_count": 123,
   "id": "331efbeb",
   "metadata": {},
   "outputs": [
    {
     "name": "stdout",
     "output_type": "stream",
     "text": [
      "{'setosa': 50, 'versicolor': 50, 'virginica': 50}\n"
     ]
    },
    {
     "data": {
      "text/plain": [
       "<BarContainer object of 3 artists>"
      ]
     },
     "execution_count": 123,
     "metadata": {},
     "output_type": "execute_result"
    },
    {
     "data": {
      "image/png": "[encoded data removed]",
      "text/plain": [
       "<Figure size 432x288 with 1 Axes>"
      ]
     },
     "metadata": {
      "needs_background": "light"
     },
     "output_type": "display_data"
    }
   ],
   "source": [
    "count_species = dict(iris['species'].value_counts())\n",
    "print(count_species)\n",
    "plt.bar(count_species.keys(),count_species.values())"
   ]
  },
  {
   "cell_type": "code",
   "execution_count": 125,
   "id": "e3072f98",
   "metadata": {},
   "outputs": [
    {
     "data": {
      "text/html": [
       "<div>\n",
       "<style scoped>\n",
       "    .dataframe tbody tr th:only-of-type {\n",
       "        vertical-align: middle;\n",
       "    }\n",
       "\n",
       "    .dataframe tbody tr th {\n",
       "        vertical-align: top;\n",
       "    }\n",
       "\n",
       "    .dataframe thead th {\n",
       "        text-align: right;\n",
       "    }\n",
       "</style>\n",
       "<table border=\"1\" class=\"dataframe\">\n",
       "  <thead>\n",
       "    <tr style=\"text-align: right;\">\n",
       "      <th></th>\n",
       "      <th>sepal_length</th>\n",
       "      <th>sepal_width</th>\n",
       "      <th>petal_length</th>\n",
       "      <th>petal_width</th>\n",
       "    </tr>\n",
       "    <tr>\n",
       "      <th>species</th>\n",
       "      <th></th>\n",
       "      <th></th>\n",
       "      <th></th>\n",
       "      <th></th>\n",
       "    </tr>\n",
       "  </thead>\n",
       "  <tbody>\n",
       "    <tr>\n",
       "      <th>setosa</th>\n",
       "      <td>5.006</td>\n",
       "      <td>3.428</td>\n",
       "      <td>1.462</td>\n",
       "      <td>0.246</td>\n",
       "    </tr>\n",
       "    <tr>\n",
       "      <th>versicolor</th>\n",
       "      <td>5.936</td>\n",
       "      <td>2.770</td>\n",
       "      <td>4.260</td>\n",
       "      <td>1.326</td>\n",
       "    </tr>\n",
       "    <tr>\n",
       "      <th>virginica</th>\n",
       "      <td>6.588</td>\n",
       "      <td>2.974</td>\n",
       "      <td>5.552</td>\n",
       "      <td>2.026</td>\n",
       "    </tr>\n",
       "  </tbody>\n",
       "</table>\n",
       "</div>"
      ],
      "text/plain": [
       "            sepal_length  sepal_width  petal_length  petal_width\n",
       "species                                                         \n",
       "setosa             5.006        3.428         1.462        0.246\n",
       "versicolor         5.936        2.770         4.260        1.326\n",
       "virginica          6.588        2.974         5.552        2.026"
      ]
     },
     "execution_count": 125,
     "metadata": {},
     "output_type": "execute_result"
    }
   ],
   "source": [
    "mean_iris = iris.groupby('species').mean()\n",
    "mean_iris"
   ]
  },
  {
   "cell_type": "code",
   "execution_count": 169,
   "id": "e9dedf9e",
   "metadata": {},
   "outputs": [
    {
     "data": {
      "image/png": "[encoded data removed]",
      "text/plain": [
       "<Figure size 864x576 with 4 Axes>"
      ]
     },
     "metadata": {
      "needs_background": "light"
     },
     "output_type": "display_data"
    }
   ],
   "source": [
    "fig, axes = plt.subplots(2,2)\n",
    "\n",
    "axes[0][0].bar(mean_iris.index, mean_iris['sepal_length'],color=['blue', 'red','violet'])\n",
    "axes[0][0].set_title('sepal length', fontsize=15)\n",
    "\n",
    "axes[0][1].bar(mean_iris.index, mean_iris['sepal_width'],color=['blue', 'red','violet'])\n",
    "axes[0][1].set_title('sepal width', fontsize=15)\n",
    "\n",
    "axes[1][0].bar(mean_iris.index, mean_iris['petal_length'],color=['blue', 'red','violet'])\n",
    "axes[1][0].set_title('petal length', fontsize=15)\n",
    "\n",
    "axes[1][1].bar(mean_iris.index, mean_iris['petal_width'],color=['blue', 'red','violet'])\n",
    "axes[1][1].set_title('petal width', fontsize=15)\n",
    "\n",
    "fig.set_figwidth(12) \n",
    "fig.set_figheight(8)\n",
    "fig.savefig('iris_mean')\n",
    "plt.show()"
   ]
  },
  {
   "cell_type": "code",
   "execution_count": 188,
   "id": "a2f828c3",
   "metadata": {
    "scrolled": false
   },
   "outputs": [
    {
     "data": {
      "image/png": "[encoded data removed]",
      "text/plain": [
       "<Figure size 864x576 with 3 Axes>"
      ]
     },
     "metadata": {
      "needs_background": "light"
     },
     "output_type": "display_data"
    }
   ],
   "source": [
    "\n",
    "virg_petal = iris.loc[iris['species']=='virginica', ['petal_length','petal_width']]\n",
    "petal_len = virg_petal['petal_length'].values\n",
    "petal_wid = virg_petal['petal_width'].values\n",
    "square_petal = petal_len * petal_wid \n",
    "\n",
    "plt.figure(figsize=(12,8))\n",
    "plt.subplot(2,2,1)\n",
    "plt.boxplot(petal_len)\n",
    "plt.title('Длина лепестка')\n",
    "\n",
    "plt.subplot(2,2,3)\n",
    "plt.boxplot(petal_wid)\n",
    "plt.title('Ширина лепестка')\n",
    "\n",
    "plt.subplot(1,2,2)\n",
    "plt.boxplot(square_petal)\n",
    "plt.title('Площадь лепестка')\n",
    "\n",
    "plt.savefig('virginica petal')\n",
    "plt.show()"
   ]
  },
  {
   "cell_type": "code",
   "execution_count": 194,
   "id": "fd524ad3",
   "metadata": {},
   "outputs": [
    {
     "data": {
      "image/png": "[encoded data removed]",
      "text/plain": [
       "<Figure size 432x288 with 1 Axes>"
      ]
     },
     "metadata": {
      "needs_background": "light"
     },
     "output_type": "display_data"
    }
   ],
   "source": [
    "setosa_petal = iris.loc[iris['species']=='setosa', ['petal_length','petal_width']]\n",
    "setosa_len = setosa_petal['petal_length'].values\n",
    "setosa_wid = setosa_petal['petal_width'].values\n",
    "ps_setosa = setosa_len * setosa_wid\n",
    "\n",
    "ver_petal = iris.loc[iris['species']=='versicolor', ['petal_length','petal_width']]\n",
    "ver_len = ver_petal['petal_length'].values\n",
    "ver_wid = ver_petal['petal_width'].values\n",
    "ps_ver = ver_len * ver_wid\n",
    "\n",
    "virg_petal = iris.loc[iris['species']=='virginica', ['petal_length','petal_width']]\n",
    "virg_len = virg_petal['petal_length'].values\n",
    "virg_wid = virg_petal['petal_width'].values\n",
    "ps_virg = virg_len * virg_wid\n",
    "\n",
    "plt.boxplot([ps_setosa, ps_ver, ps_virg],labels = ['Setosa', 'Versicolor', 'Virginica'])\n",
    "plt.xticks(fontsize=14)\n",
    "plt.title('Square petal', fontsize = 15)\n",
    "plt.savefig('Square petal')\n",
    "plt.show()"
   ]
  },
  {
   "cell_type": "code",
   "execution_count": 103,
   "id": "22acf6bf",
   "metadata": {},
   "outputs": [
    {
     "data": {
      "text/html": [
       "<div>\n",
       "<style scoped>\n",
       "    .dataframe tbody tr th:only-of-type {\n",
       "        vertical-align: middle;\n",
       "    }\n",
       "\n",
       "    .dataframe tbody tr th {\n",
       "        vertical-align: top;\n",
       "    }\n",
       "\n",
       "    .dataframe thead th {\n",
       "        text-align: right;\n",
       "    }\n",
       "</style>\n",
       "<table border=\"1\" class=\"dataframe\">\n",
       "  <thead>\n",
       "    <tr style=\"text-align: right;\">\n",
       "      <th></th>\n",
       "      <th>survived</th>\n",
       "      <th>pclass</th>\n",
       "      <th>sex</th>\n",
       "      <th>age</th>\n",
       "      <th>sibsp</th>\n",
       "      <th>parch</th>\n",
       "      <th>fare</th>\n",
       "      <th>embarked</th>\n",
       "      <th>class</th>\n",
       "      <th>who</th>\n",
       "      <th>adult_male</th>\n",
       "      <th>deck</th>\n",
       "      <th>embark_town</th>\n",
       "      <th>alive</th>\n",
       "      <th>alone</th>\n",
       "    </tr>\n",
       "  </thead>\n",
       "  <tbody>\n",
       "    <tr>\n",
       "      <th>0</th>\n",
       "      <td>0</td>\n",
       "      <td>3</td>\n",
       "      <td>male</td>\n",
       "      <td>22.0</td>\n",
       "      <td>1</td>\n",
       "      <td>0</td>\n",
       "      <td>7.2500</td>\n",
       "      <td>S</td>\n",
       "      <td>Third</td>\n",
       "      <td>man</td>\n",
       "      <td>True</td>\n",
       "      <td>NaN</td>\n",
       "      <td>Southampton</td>\n",
       "      <td>no</td>\n",
       "      <td>False</td>\n",
       "    </tr>\n",
       "    <tr>\n",
       "      <th>1</th>\n",
       "      <td>1</td>\n",
       "      <td>1</td>\n",
       "      <td>female</td>\n",
       "      <td>38.0</td>\n",
       "      <td>1</td>\n",
       "      <td>0</td>\n",
       "      <td>71.2833</td>\n",
       "      <td>C</td>\n",
       "      <td>First</td>\n",
       "      <td>woman</td>\n",
       "      <td>False</td>\n",
       "      <td>C</td>\n",
       "      <td>Cherbourg</td>\n",
       "      <td>yes</td>\n",
       "      <td>False</td>\n",
       "    </tr>\n",
       "    <tr>\n",
       "      <th>2</th>\n",
       "      <td>1</td>\n",
       "      <td>3</td>\n",
       "      <td>female</td>\n",
       "      <td>26.0</td>\n",
       "      <td>0</td>\n",
       "      <td>0</td>\n",
       "      <td>7.9250</td>\n",
       "      <td>S</td>\n",
       "      <td>Third</td>\n",
       "      <td>woman</td>\n",
       "      <td>False</td>\n",
       "      <td>NaN</td>\n",
       "      <td>Southampton</td>\n",
       "      <td>yes</td>\n",
       "      <td>True</td>\n",
       "    </tr>\n",
       "    <tr>\n",
       "      <th>3</th>\n",
       "      <td>1</td>\n",
       "      <td>1</td>\n",
       "      <td>female</td>\n",
       "      <td>35.0</td>\n",
       "      <td>1</td>\n",
       "      <td>0</td>\n",
       "      <td>53.1000</td>\n",
       "      <td>S</td>\n",
       "      <td>First</td>\n",
       "      <td>woman</td>\n",
       "      <td>False</td>\n",
       "      <td>C</td>\n",
       "      <td>Southampton</td>\n",
       "      <td>yes</td>\n",
       "      <td>False</td>\n",
       "    </tr>\n",
       "    <tr>\n",
       "      <th>4</th>\n",
       "      <td>0</td>\n",
       "      <td>3</td>\n",
       "      <td>male</td>\n",
       "      <td>35.0</td>\n",
       "      <td>0</td>\n",
       "      <td>0</td>\n",
       "      <td>8.0500</td>\n",
       "      <td>S</td>\n",
       "      <td>Third</td>\n",
       "      <td>man</td>\n",
       "      <td>True</td>\n",
       "      <td>NaN</td>\n",
       "      <td>Southampton</td>\n",
       "      <td>no</td>\n",
       "      <td>True</td>\n",
       "    </tr>\n",
       "  </tbody>\n",
       "</table>\n",
       "</div>"
      ],
      "text/plain": [
       "   survived  pclass     sex   age  sibsp  parch     fare embarked  class  \\\n",
       "0         0       3    male  22.0      1      0   7.2500        S  Third   \n",
       "1         1       1  female  38.0      1      0  71.2833        C  First   \n",
       "2         1       3  female  26.0      0      0   7.9250        S  Third   \n",
       "3         1       1  female  35.0      1      0  53.1000        S  First   \n",
       "4         0       3    male  35.0      0      0   8.0500        S  Third   \n",
       "\n",
       "     who  adult_male deck  embark_town alive  alone  \n",
       "0    man        True  NaN  Southampton    no  False  \n",
       "1  woman       False    C    Cherbourg   yes  False  \n",
       "2  woman       False  NaN  Southampton   yes   True  \n",
       "3  woman       False    C  Southampton   yes  False  \n",
       "4    man        True  NaN  Southampton    no   True  "
      ]
     },
     "execution_count": 103,
     "metadata": {},
     "output_type": "execute_result"
    }
   ],
   "source": [
    "titanic = sns.load_dataset('titanic')\n",
    "titanic.head()"
   ]
  },
  {
   "cell_type": "code",
   "execution_count": 104,
   "id": "cd1ee979",
   "metadata": {},
   "outputs": [
    {
     "name": "stdout",
     "output_type": "stream",
     "text": [
      "Всего человек выжило: 342\n"
     ]
    }
   ],
   "source": [
    "#Допустим, мы хотим знать сколько людей выжило, тогда\n",
    "survived = titanic['survived'].sum()\n",
    "print(\"Всего человек выжило:\",survived)"
   ]
  },
  {
   "cell_type": "code",
   "execution_count": 195,
   "id": "6b9fc100",
   "metadata": {},
   "outputs": [
    {
     "data": {
      "text/html": [
       "<div>\n",
       "<style scoped>\n",
       "    .dataframe tbody tr th:only-of-type {\n",
       "        vertical-align: middle;\n",
       "    }\n",
       "\n",
       "    .dataframe tbody tr th {\n",
       "        vertical-align: top;\n",
       "    }\n",
       "\n",
       "    .dataframe thead th {\n",
       "        text-align: right;\n",
       "    }\n",
       "</style>\n",
       "<table border=\"1\" class=\"dataframe\">\n",
       "  <thead>\n",
       "    <tr style=\"text-align: right;\">\n",
       "      <th></th>\n",
       "      <th>survived</th>\n",
       "    </tr>\n",
       "    <tr>\n",
       "      <th>who</th>\n",
       "      <th></th>\n",
       "    </tr>\n",
       "  </thead>\n",
       "  <tbody>\n",
       "    <tr>\n",
       "      <th>child</th>\n",
       "      <td>49</td>\n",
       "    </tr>\n",
       "    <tr>\n",
       "      <th>man</th>\n",
       "      <td>88</td>\n",
       "    </tr>\n",
       "    <tr>\n",
       "      <th>woman</th>\n",
       "      <td>205</td>\n",
       "    </tr>\n",
       "  </tbody>\n",
       "</table>\n",
       "</div>"
      ],
      "text/plain": [
       "       survived\n",
       "who            \n",
       "child        49\n",
       "man          88\n",
       "woman       205"
      ]
     },
     "execution_count": 195,
     "metadata": {},
     "output_type": "execute_result"
    }
   ],
   "source": [
    "#Но я бы уточнил данные, и посчитал сколько выжило мужчин, женщин и детей (то есть по отдельности по колонке 'who')\n",
    "who_survived = titanic.loc[:,['survived', 'who']]\n",
    "who_survived_sum = who_survived.groupby('who').sum()\n",
    "who_survived_sum"
   ]
  },
  {
   "cell_type": "code",
   "execution_count": 196,
   "id": "e777a664",
   "metadata": {},
   "outputs": [
    {
     "data": {
      "text/plain": [
       "[49, 88, 205]"
      ]
     },
     "execution_count": 196,
     "metadata": {},
     "output_type": "execute_result"
    }
   ],
   "source": [
    "count = who_survived_sum.values\n",
    "count_surv = [i[0] for i in count]\n",
    "count_surv"
   ]
  },
  {
   "cell_type": "code",
   "execution_count": null,
   "id": "93a07bcb",
   "metadata": {},
   "outputs": [],
   "source": [
    "#сделать две диаграммы, на одной сколько всего по каждому было, другую выжило, В ОДИНАКОВОМ МАСШТАБЕ"
   ]
  },
  {
   "cell_type": "code",
   "execution_count": 197,
   "id": "18ec2316",
   "metadata": {},
   "outputs": [
    {
     "data": {
      "text/plain": [
       "{'man': 537, 'woman': 271, 'child': 83}"
      ]
     },
     "execution_count": 197,
     "metadata": {},
     "output_type": "execute_result"
    }
   ],
   "source": [
    "who_did = titanic['who'].value_counts()\n",
    "who_did = dict(who_did)\n",
    "who_did"
   ]
  },
  {
   "cell_type": "code",
   "execution_count": 203,
   "id": "d886a3f6",
   "metadata": {},
   "outputs": [
    {
     "data": {
      "image/png": "[encoded data removed]",
      "text/plain": [
       "<Figure size 432x288 with 1 Axes>"
      ]
     },
     "metadata": {
      "needs_background": "light"
     },
     "output_type": "display_data"
    }
   ],
   "source": [
    "#для начала нужно сделать общую диаграмму, где показывается сколько людей каждой категории было на борту\n",
    "plt.bar(who_did.keys(),who_did.values(),color=['blue', 'red', 'green'])\n",
    "plt.title(label='На борту всего было:', fontsize=20)\n",
    "plt.ylim(bottom=0, top = 550)\n",
    "plt.savefig('На борту всего было')\n",
    "plt.show()"
   ]
  },
  {
   "cell_type": "code",
   "execution_count": 199,
   "id": "eb35abd3",
   "metadata": {},
   "outputs": [
    {
     "data": {
      "image/png": "[encoded data removed]",
      "text/plain": [
       "<Figure size 432x288 with 1 Axes>"
      ]
     },
     "metadata": {
      "needs_background": "light"
     },
     "output_type": "display_data"
    }
   ],
   "source": [
    "label = who_survived_sum.index\n",
    "plt.bar(label, count_surv, color=['blue', 'red', 'green'])\n",
    "plt.title(label='Всего выжило:', fontsize=20)\n",
    "plt.ylim(bottom=0, top = 550)\n",
    "plt.show()\n",
    "#цвета распределены неправильно"
   ]
  },
  {
   "cell_type": "code",
   "execution_count": 200,
   "id": "0456faf6",
   "metadata": {},
   "outputs": [],
   "source": [
    "count_surv_like = [count_surv[1], count_surv[2], count_surv[0]]"
   ]
  },
  {
   "cell_type": "code",
   "execution_count": 202,
   "id": "5e42ba59",
   "metadata": {},
   "outputs": [
    {
     "data": {
      "image/png": "[encoded data removed]",
      "text/plain": [
       "<Figure size 432x288 with 1 Axes>"
      ]
     },
     "metadata": {
      "needs_background": "light"
     },
     "output_type": "display_data"
    }
   ],
   "source": [
    "label = who_survived_sum.index\n",
    "plt.bar(['man', 'woman', 'child'], count_surv_like, color=['blue', 'red', 'green'])\n",
    "plt.title(label='Всего выжило:', fontsize=20)\n",
    "plt.ylim(bottom=0, top = 550)\n",
    "plt.savefig('Всего выжило')\n",
    "plt.show()"
   ]
  },
  {
   "cell_type": "code",
   "execution_count": 232,
   "id": "0bad9022",
   "metadata": {},
   "outputs": [
    {
     "data": {
      "image/png": "[encoded data removed]",
      "text/plain": [
       "<Figure size 432x288 with 1 Axes>"
      ]
     },
     "metadata": {},
     "output_type": "display_data"
    }
   ],
   "source": [
    "em_town = titanic['embark_town'].value_counts()\n",
    "plt.pie(em_town.values,\n",
    "        explode=[0.3,0,0],\n",
    "        labels=em_town.index,\n",
    "        colors=['blue','brown', 'orange'],\n",
    "        autopct='%0.1f%%')\n",
    "plt.savefig('Процент – порты')\n",
    "plt.show()"
   ]
  },
  {
   "cell_type": "code",
   "execution_count": 235,
   "id": "d205696d",
   "metadata": {},
   "outputs": [
    {
     "data": {
      "image/png": "[encoded data removed]",
      "text/plain": [
       "<Figure size 432x288 with 1 Axes>"
      ]
     },
     "metadata": {
      "needs_background": "light"
     },
     "output_type": "display_data"
    }
   ],
   "source": [
    "sns.barplot(x=\"class\", y=\"survived\", hue=\"embark_town\", data=titanic)\n",
    "plt.savefig('Количество выживших пассажиров в зависимости от класса')\n",
    "plt.show()"
   ]
  },
  {
   "cell_type": "code",
   "execution_count": 259,
   "id": "b8ce88e8",
   "metadata": {},
   "outputs": [],
   "source": [
    "from docx import Document, shared"
   ]
  },
  {
   "cell_type": "code",
   "execution_count": 267,
   "id": "69e28a54",
   "metadata": {},
   "outputs": [],
   "source": [
    "document = Document()\n",
    "\n",
    "file_name_iris = ['iris_mean',\n",
    "             'virginica petal',\n",
    "             'Square petal']\n",
    "for file in file_name_iris:\n",
    "    document.add_picture(file+'.png', width=shared.Cm(16))\n",
    "document.save(\"Результаты iris.docx\")"
   ]
  },
  {
   "cell_type": "code",
   "execution_count": 268,
   "id": "4f73e570",
   "metadata": {},
   "outputs": [],
   "source": [
    "document = Document()\n",
    "\n",
    "file_name_tit = ['На борту всего было',\n",
    "             'Всего выжило',\n",
    "             'Процент – порты',\n",
    "             'Количество выживших пассажиров в зависимости от класса']\n",
    "for file in file_name_tit:\n",
    "    document.add_picture(file+'.png', width=shared.Cm(16))\n",
    "document.save(\"Результаты titanic.docx\")"
   ]
  },
  {
   "cell_type": "code",
   "execution_count": null,
   "id": "defd35d3",
   "metadata": {},
   "outputs": [],
   "source": [
    "x = int(input())\n",
    "runif = np.random.randint(1,7,x)\n",
    "counts = runif.value_counts()\n",
    "counts"
   ]
  },
  {
   "cell_type": "code",
   "execution_count": null,
   "id": "b9a6903e",
   "metadata": {},
   "outputs": [],
   "source": []
  }
 ],
 "metadata": {
  "kernelspec": {
   "display_name": "Python 3 (ipykernel)",
   "language": "python",
   "name": "python3"
  },
  "language_info": {
   "codemirror_mode": {
    "name": "ipython",
    "version": 3
   },
   "file_extension": ".py",
   "mimetype": "text/x-python",
   "name": "python",
   "nbconvert_exporter": "python",
   "pygments_lexer": "ipython3",
   "version": "3.10.4"
  }
 },
 "nbformat": 4,
 "nbformat_minor": 5
}
